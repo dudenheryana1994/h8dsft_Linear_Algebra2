{
 "cells": [
  {
   "cell_type": "markdown",
   "id": "acd2255d",
   "metadata": {},
   "source": [
    "# Non Graded Challenge 5\n",
    "\n",
    "_Non-Graded Assignment ini dibuat guna mengevaluasi pembelajaran pada Hacktiv8 Data Science Fulltime Program khususnya pada konsep Linear Algebra._\n",
    "\n",
    "---\n",
    "\n",
    "## Assignment Instructions\n",
    "\n",
    "- Periksa apakah w = (-4, 5, 4) merupakan kombinasi linear dari v1 = (2, 1, 0) dan v2 = (=1, 3, 2)\n",
    "- Misalkan V dan W adalah ruang vektor. Jika $T:\\ V\\rightarrow W$ adalah transformasi linear dan $u\\in V$, maka buktikan bahwa $T(-u) = -T(u)$.\n",
    "\n",
    "## Assignment Submission\n",
    "\n",
    "- Simpan assignment pada sesi ini dengan nama `h8dsft_Linear_Algebra2`.\n",
    "- Push Assigment yang telah kalian buat ke akun Github kalian masing-masing.\n",
    "\n",
    "## Assignment Objectives\n",
    "\n",
    "Non-Graded Assignment ini dibuat guna mengevaluasi konsep Linear Algebra sebagai berikut:\n",
    "\n",
    "- Mampu memahami konsep linear transformation dan implementasinya\n",
    "- Mampu memahami konsep linear combination dan implementasinya"
   ]
  },
  {
   "cell_type": "markdown",
   "id": "0e9c946c",
   "metadata": {},
   "source": [
    "- Periksa apakah w = (-4, 5, 4) merupakan kombinasi linear dari v1 = (2, 1, 0) dan v2 = (=1, 3, 2)\n",
    "- Misalkan V dan W adalah ruang vektor. Jika $T:\\ V\\rightarrow W$ adalah transformasi linear dan $u\\in V$, maka buktikan bahwa $T(-u) = -T(u)$."
   ]
  },
  {
   "cell_type": "markdown",
   "id": "c8bdbda8",
   "metadata": {},
   "source": [
    "#### Library yang digunakan"
   ]
  },
  {
   "cell_type": "code",
   "execution_count": 2,
   "id": "3bf8b49b",
   "metadata": {},
   "outputs": [],
   "source": [
    "import numpy as np\n",
    "from numpy.linalg import det\n",
    "from numpy.linalg import inv"
   ]
  },
  {
   "cell_type": "markdown",
   "id": "5297b79b",
   "metadata": {},
   "source": [
    "### Problems\n",
    "\n",
    "Buatlah Tensor dibawah ini dengan Python:\n",
    "\n",
    "  $$\n",
    "  \\begin{bmatrix}   \\begin{bmatrix}   23 & 50 \\\\   7 & 12 \\\\   \\end{bmatrix}   \\begin{bmatrix}   57 & 67 \\\\   99 & 43   \\end{bmatrix} \\\\    \\begin{bmatrix}   75 & 21 \\\\   57 & 12 \\\\   \\end{bmatrix}   \\begin{bmatrix}   87 & 26 \\\\   18 & 84   \\end{bmatrix}   \\end{bmatrix}\n",
    "  $$"
   ]
  },
  {
   "cell_type": "code",
   "execution_count": 4,
   "id": "d11c2050",
   "metadata": {},
   "outputs": [
    {
     "name": "stdout",
     "output_type": "stream",
     "text": [
      "[[[[23 50]\n",
      "   [ 7 12]]\n",
      "\n",
      "  [[57 67]\n",
      "   [99 43]]]\n",
      "\n",
      "\n",
      " [[[75 21]\n",
      "   [57 12]]\n",
      "\n",
      "  [[87 26]\n",
      "   [18 84]]]]\n"
     ]
    }
   ],
   "source": [
    "# Melakukan Tensor 4D\n",
    "v3 = np.array(\n",
    "\n",
    "[[[[23,50],[7,12]],\n",
    "[[57,67],[99,43]]],\n",
    "\n",
    "[[[75,21],[57,12]],\n",
    "[[87,26],[18,84]]]] )\n",
    "\n",
    "print(v3)"
   ]
  },
  {
   "cell_type": "markdown",
   "id": "aadcc0c3",
   "metadata": {},
   "source": [
    "Lakukan perkalian terhadap matrix berikut:\n",
    "\n",
    "  $$\n",
    "  A =\n",
    "  \\begin{bmatrix}\n",
    "  23 & 50 & 19 \\\\\n",
    "  7 & 12 & 109 \\\\\n",
    "  57 & 67 & 98\n",
    "  \\end{bmatrix},\n",
    "  B = \n",
    "  \\begin{bmatrix}\n",
    "  17 \\\\\n",
    "  22 \\\\\n",
    "  19\n",
    "  \\end{bmatrix}\n",
    "  $$"
   ]
  },
  {
   "cell_type": "code",
   "execution_count": 6,
   "id": "01e88ae9",
   "metadata": {},
   "outputs": [
    {
     "name": "stdout",
     "output_type": "stream",
     "text": [
      "[1852 2454 4305]\n"
     ]
    }
   ],
   "source": [
    "# Melakukan Perkalian matriks\n",
    "A = np.array([[23,50,19],\n",
    "              [7,12,109],\n",
    "              [57,67,98]])\n",
    "\n",
    "b = np.array([17,22,19])\n",
    "\n",
    "R = A.dot(b)\n",
    "print(R)"
   ]
  },
  {
   "cell_type": "markdown",
   "id": "e13646cb",
   "metadata": {},
   "source": [
    "Lakukan Transpose, hitung Determinan, dan Inverse terhadap matrix dibawah :\n",
    "\n",
    "$$\n",
    "  A =\n",
    "  \\begin{bmatrix}\n",
    "  23 & 50 & 19 \\\\\n",
    "  7 & 12 & 109 \\\\\n",
    "  57 & 67 & 98\n",
    "  \\end{bmatrix}\n",
    "  $$"
   ]
  },
  {
   "cell_type": "code",
   "execution_count": 7,
   "id": "ab3f6817",
   "metadata": {},
   "outputs": [
    {
     "name": "stdout",
     "output_type": "stream",
     "text": [
      "[[ 23  50  19]\n",
      " [  7  12 109]\n",
      " [ 57  67  98]]\n"
     ]
    }
   ],
   "source": [
    "# Melakukan declare matriks\n",
    "A = np.array([[23,50,19],\n",
    "              [7,12,109],\n",
    "              [57,67,98]])\n",
    "\n",
    "print(A)"
   ]
  },
  {
   "cell_type": "code",
   "execution_count": 8,
   "id": "ff930d72",
   "metadata": {},
   "outputs": [
    {
     "name": "stdout",
     "output_type": "stream",
     "text": [
      "131344.0000000002\n"
     ]
    }
   ],
   "source": [
    "# Determinan A\n",
    "AD = det(A)\n",
    "print(AD)"
   ]
  },
  {
   "cell_type": "code",
   "execution_count": 9,
   "id": "8bd6122d",
   "metadata": {},
   "outputs": [
    {
     "name": "stdout",
     "output_type": "stream",
     "text": [
      "[[-0.0466485  -0.02761451  0.03975819]\n",
      " [ 0.04208034  0.00891552 -0.01807467]\n",
      " [-0.00163692  0.0099662  -0.00056341]]\n"
     ]
    }
   ],
   "source": [
    "# Invers A\n",
    "AI = inv(A)\n",
    "print(AI)"
   ]
  }
 ],
 "metadata": {
  "kernelspec": {
   "display_name": "Python 3",
   "language": "python",
   "name": "python3"
  },
  "language_info": {
   "codemirror_mode": {
    "name": "ipython",
    "version": 3
   },
   "file_extension": ".py",
   "mimetype": "text/x-python",
   "name": "python",
   "nbconvert_exporter": "python",
   "pygments_lexer": "ipython3",
   "version": "3.8.8"
  }
 },
 "nbformat": 4,
 "nbformat_minor": 5
}
